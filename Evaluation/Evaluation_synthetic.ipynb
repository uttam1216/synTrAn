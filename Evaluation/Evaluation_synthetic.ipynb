{
 "cells": [
  {
   "cell_type": "code",
   "execution_count": 1,
   "id": "a5b059c0",
   "metadata": {},
   "outputs": [
    {
     "name": "stdout",
     "output_type": "stream",
     "text": [
      "154.40277137013325\n"
     ]
    }
   ],
   "source": [
    "\n",
    "# http://janmatuschek.de/LatitudeLongitudeBoundingCoordinates\n",
    "# dist = arccos(sin(lat1) · sin(lat2) + cos(lat1) · cos(lat2) · cos(lon1 - lon2)) · R\n",
    "import math\n",
    "xlimit_high_long= -8.62000\n",
    "xlimit_low_long= -8.64000\n",
    "ylimit_high_lat= 41.16\n",
    "ylimit_low_lat= 41.1450\n",
    "# Radius of the world\n",
    "# R=\n",
    "area=math.acos(math.sin(ylimit_high_lat)*math.sin(ylimit_low_lat)+\n",
    "               math.cos(ylimit_high_lat)*math.cos(ylimit_low_lat)*math.cos(xlimit_high_long-xlimit_low_long))*6371\n",
    "\n",
    "print(area)\n"
   ]
  },
  {
   "cell_type": "code",
   "execution_count": 2,
   "id": "904925eb",
   "metadata": {},
   "outputs": [
    {
     "name": "stdout",
     "output_type": "stream",
     "text": [
      "0.001428571428571525\n",
      "0.0013636363636357694\n"
     ]
    }
   ],
   "source": [
    "lon_high= -8.62000\n",
    "lon_low= -8.64000\n",
    "lat_high= 41.16\n",
    "lat_low= 41.1450\n",
    "# we will divide this area into 11(lat)*14(lon) grid\n",
    "lon_difference=abs(lon_high-lon_low)\n",
    "lon_fraction=lon_difference/14\n",
    "lat_difference=abs(lat_high-lat_low)\n",
    "lat_fraction=lat_difference/11\n",
    "print(lon_fraction)\n",
    "print(lat_fraction)"
   ]
  },
  {
   "cell_type": "code",
   "execution_count": 3,
   "id": "a72c3c3a",
   "metadata": {},
   "outputs": [
    {
     "name": "stdout",
     "output_type": "stream",
     "text": [
      "[-8.64, -8.63857142857143, -8.637142857142859, -8.635714285714288, -8.634285714285717, -8.632857142857146, -8.631428571428575, -8.630000000000004, -8.628571428571433, -8.627142857142863, -8.625714285714292, -8.62428571428572, -8.62285714285715, -8.621428571428579, -8.62]\n"
     ]
    }
   ],
   "source": [
    "lon_axis=[]\n",
    "lon_axis.append(lon_low)\n",
    "for i in range(13):\n",
    "    temp=lon_axis[i]+lon_fraction\n",
    "    lon_axis.append(temp)\n",
    "lon_axis.append(lon_high)\n",
    "print(lon_axis)\n",
    "    "
   ]
  },
  {
   "cell_type": "code",
   "execution_count": 4,
   "id": "76a2e8bf",
   "metadata": {},
   "outputs": [
    {
     "name": "stdout",
     "output_type": "stream",
     "text": [
      "[41.145, 41.14636363636364, 41.14772727272727, 41.14909090909091, 41.150454545454544, 41.15181818181818, 41.153181818181814, 41.15454545454545, 41.155909090909084, 41.15727272727272, 41.158636363636354, 41.16]\n"
     ]
    }
   ],
   "source": [
    "lat_axis=[]\n",
    "lat_axis.append(lat_low)\n",
    "for i in range(10):\n",
    "    temp=lat_axis[i]+lat_fraction\n",
    "    lat_axis.append(temp)\n",
    "lat_axis.append(lat_high)\n",
    "print(lat_axis)"
   ]
  },
  {
   "cell_type": "code",
   "execution_count": 5,
   "id": "a4954949",
   "metadata": {},
   "outputs": [
    {
     "data": {
      "text/plain": [
       "-8.632857142857146"
      ]
     },
     "execution_count": 5,
     "metadata": {},
     "output_type": "execute_result"
    }
   ],
   "source": [
    "lon_axis[5]"
   ]
  },
  {
   "cell_type": "code",
   "execution_count": 6,
   "id": "6e574e0a",
   "metadata": {},
   "outputs": [],
   "source": [
    "Rawtrajectories=0\n",
    "syntheticTrajectories=0"
   ]
  },
  {
   "cell_type": "code",
   "execution_count": 7,
   "id": "df808e55",
   "metadata": {},
   "outputs": [
    {
     "name": "stdout",
     "output_type": "stream",
     "text": [
      "[[0 0 0 0 0 0 0 0 0 0 0 0 0 0]\n",
      " [0 0 0 0 0 0 0 0 0 0 0 0 0 0]\n",
      " [0 0 0 0 0 0 0 0 0 0 0 0 0 0]\n",
      " [0 0 0 0 0 0 0 0 0 0 0 0 0 0]\n",
      " [0 0 0 0 0 0 0 0 0 0 0 0 0 0]\n",
      " [0 0 0 0 0 0 0 0 0 0 0 0 0 0]\n",
      " [0 0 0 0 0 0 0 0 0 0 0 0 0 0]\n",
      " [0 0 0 0 0 0 0 0 0 0 0 0 0 0]\n",
      " [0 0 0 0 0 0 0 0 0 0 0 0 0 0]\n",
      " [0 0 0 0 0 0 0 0 0 0 0 0 0 0]\n",
      " [0 0 0 0 0 0 0 0 0 0 0 0 0 0]]\n",
      "[[  0   0   0   0   0   4  29   6   9  11  60  23  36  33]\n",
      " [  0   0   0   0   0  66  55  43   0   0   8   8 222 127]\n",
      " [  0   0   0   0   0  15  11  25   8  52 236 107 135   0]\n",
      " [  0   0   0   0   0   4  35  39  62  95 117 129  46 114]\n",
      " [  0   0   0   0   0   0   9 206  32 167   2 131 229  73]\n",
      " [  0   0   0   0   0  46 281 206 277 523  43  32  19 202]\n",
      " [  0   0   0   0   0  24 261  73  38 173  22   0   0  88]\n",
      " [  0   0   0   0   0   0 431  60 105 125 119  97  41 206]\n",
      " [  0   0   0   0   0   5  27 192 284  38 165 112 157  85]\n",
      " [  0   0   0   0   0   8 157  20 520 130  87  43  59  11]\n",
      " [  0   0   0   0   0   5  15 100  74  86  58  15   2   3]]\n"
     ]
    }
   ],
   "source": [
    "import pandas as pd\n",
    "import numpy as np\n",
    "heat_array = np.zeros((11, 14),dtype=int)\n",
    "print(heat_array)\n",
    "for i in range(336):\n",
    "    i=i+1\n",
    "    filename=\"raw_data/rawData_\"+str(i)+\".csv\"\n",
    "#     print(filename)\n",
    "    rawData = pd.read_csv(filename)\n",
    "#     print(rawData)\n",
    "    \n",
    "    for data in range(len(rawData)):\n",
    "        Rawtrajectories=Rawtrajectories+1\n",
    "#     for data in range(1):\n",
    "        lat=rawData.lat[data]\n",
    "        lon=rawData.lon[data]\n",
    "#         print(lat)\n",
    "#         print(lon)\n",
    "        lon_column=None\n",
    "        lat_row=None\n",
    "        for ln in range(len(lon_axis)-1):\n",
    "            ln_1=ln+1\n",
    "            if lon>=lon_axis[ln] and lon<lon_axis[ln_1]:\n",
    "#                 print(lon_axis[ln])\n",
    "#                 print(lon_axis[ln_1])\n",
    "                lon_column=ln\n",
    "                break\n",
    "#         print(lon_column)\n",
    "        for lt in range(len(lat_axis)-1):\n",
    "            lt_1=lt+1\n",
    "            if lat>=lat_axis[lt] and lat<lat_axis[lt_1]:\n",
    "#                 print(lat_axis[lt])\n",
    "#                 print(lat_axis[lt_1])\n",
    "                lat_row=lt\n",
    "                break\n",
    "#         print(lat_row)\n",
    "        heat_array[lat_row,lon_column]=heat_array[lat_row,lon_column]+1\n",
    "print(heat_array)\n",
    "        "
   ]
  },
  {
   "cell_type": "code",
   "execution_count": 8,
   "id": "db1b5bf3",
   "metadata": {},
   "outputs": [
    {
     "name": "stdout",
     "output_type": "stream",
     "text": [
      "8769\n"
     ]
    }
   ],
   "source": [
    "print(Rawtrajectories)"
   ]
  },
  {
   "cell_type": "code",
   "execution_count": 9,
   "id": "604ed98d",
   "metadata": {},
   "outputs": [
    {
     "name": "stdout",
     "output_type": "stream",
     "text": [
      "[[0 0 0 0 0 0 0 0 0 0 0 0 0 0]\n",
      " [0 0 0 0 0 0 0 0 0 0 0 0 0 0]\n",
      " [0 0 0 0 0 0 0 0 0 0 0 0 0 0]\n",
      " [0 0 0 0 0 0 0 0 0 0 0 0 0 0]\n",
      " [0 0 0 0 0 0 0 0 0 0 0 0 0 0]\n",
      " [0 0 0 0 0 0 0 0 0 0 0 0 0 0]\n",
      " [0 0 0 0 0 0 0 0 0 0 0 0 0 0]\n",
      " [0 0 0 0 0 0 0 0 0 0 0 0 0 0]\n",
      " [0 0 0 0 0 0 0 0 0 0 0 0 0 0]\n",
      " [0 0 0 0 0 0 0 0 0 0 0 0 0 0]\n",
      " [0 0 0 0 0 0 0 0 0 0 0 0 0 0]]\n",
      "[[   0    0    0    0    0    0    0    0    0    0    0    0    0    0]\n",
      " [   0    0    0    0    0    0    0    0    0    0    0    0    0    0]\n",
      " [   0    0    0    0    0    0    0    0    0    0  305  237  174    0]\n",
      " [   0    0    0    0    0    0    0    0    2  545  668  447  144   55]\n",
      " [   0    0    0    0    0    0    4  157  208  782    6   28    0    1]\n",
      " [   0    0    0    0    0    6   19  118  366 1165    2    8    8    2]\n",
      " [   0    0    0    0    0   84   14   49   90   33    6    2    0    0]\n",
      " [   0    0    0    0    0    0  127  170  462   56   11    0    0    0]\n",
      " [   0    0    0    0    0    0  146 1180   57    0    3    0    0    0]\n",
      " [   0    0    0    0    0    0   49  473  263    4    0    0    0    0]\n",
      " [   0    0    0    0    0    0    0   22   11    0    0    0    0    0]]\n"
     ]
    }
   ],
   "source": [
    "# Rawtrajectories=50000000\n",
    "heat_array_traj = np.zeros((11, 14),dtype=int)\n",
    "print(heat_array_traj)\n",
    "for i in range(133):\n",
    "#     i=i+1\n",
    "    filename=\"syntheticTrajectories/syntheticTrajectories\"+str(i)+\".csv\"\n",
    "#     print(filename)\n",
    "    rawData = pd.read_csv(filename)\n",
    "#     print(rawData)\n",
    "    for data in range(len(rawData)):\n",
    "        if(syntheticTrajectories==Rawtrajectories):\n",
    "            break\n",
    "        else:\n",
    "            syntheticTrajectories=syntheticTrajectories+1\n",
    "    #     for data in range(1):\n",
    "            lat=rawData.lat[data]\n",
    "            lon=rawData.lon[data]\n",
    "    #         print(lat)\n",
    "    #         print(lon)\n",
    "            lon_column=None\n",
    "            lat_row=None\n",
    "            for ln in range(len(lon_axis)-1):\n",
    "                ln_1=ln+1\n",
    "                if lon>=lon_axis[ln] and lon<lon_axis[ln_1]:\n",
    "    #                 print(lon_axis[ln])\n",
    "    #                 print(lon_axis[ln_1])\n",
    "                    lon_column=ln\n",
    "                    break\n",
    "    #         print(lon_column)\n",
    "            for lt in range(len(lat_axis)-1):\n",
    "                lt_1=lt+1\n",
    "                if lat>=lat_axis[lt] and lat<lat_axis[lt_1]:\n",
    "    #                 print(lat_axis[lt])\n",
    "    #                 print(lat_axis[lt_1])\n",
    "                    lat_row=lt\n",
    "                    break\n",
    "    #         print(lat_row)\n",
    "            heat_array_traj[lat_row,lon_column]=heat_array_traj[lat_row,lon_column]+1\n",
    "print(heat_array_traj)"
   ]
  },
  {
   "cell_type": "code",
   "execution_count": 10,
   "id": "46bd4db4",
   "metadata": {},
   "outputs": [
    {
     "name": "stdout",
     "output_type": "stream",
     "text": [
      "8769\n"
     ]
    }
   ],
   "source": [
    "print(syntheticTrajectories)"
   ]
  },
  {
   "cell_type": "code",
   "execution_count": 11,
   "id": "2531fd54",
   "metadata": {},
   "outputs": [],
   "source": [
    "from scipy.spatial import distance"
   ]
  },
  {
   "cell_type": "code",
   "execution_count": 12,
   "id": "586bd59d",
   "metadata": {},
   "outputs": [
    {
     "name": "stdout",
     "output_type": "stream",
     "text": [
      "0.43061662784404\n"
     ]
    }
   ],
   "source": [
    "Aflat = np.hstack(heat_array)\n",
    "Bflat = np.hstack(heat_array_traj)\n",
    "\n",
    "dist = distance.cosine(Aflat, Bflat)\n",
    "print(dist)"
   ]
  },
  {
   "cell_type": "code",
   "execution_count": 13,
   "id": "257f34f7",
   "metadata": {},
   "outputs": [
    {
     "data": {
      "image/png": "[encoded data removed]",
      "text/plain": [
       "<Figure size 432x288 with 2 Axes>"
      ]
     },
     "metadata": {
      "needs_background": "light"
     },
     "output_type": "display_data"
    }
   ],
   "source": [
    "import numpy as np\n",
    "import seaborn as sns\n",
    "import matplotlib.pyplot as plt\n",
    "\n",
    "# np.random.seed(0)\n",
    "# A = np.random.uniform(0,500,(4,3))\n",
    "sns.heatmap(heat_array_traj, square=True)\n",
    "# plt.xlim(lon_low, lon_high)\n",
    "# plt.ylim(lat_low, lat_high)\n",
    "plt.show()"
   ]
  },
  {
   "cell_type": "code",
   "execution_count": 14,
   "id": "0f749602",
   "metadata": {},
   "outputs": [
    {
     "data": {
      "image/png": "[encoded data removed]",
      "text/plain": [
       "<Figure size 432x288 with 2 Axes>"
      ]
     },
     "metadata": {
      "needs_background": "light"
     },
     "output_type": "display_data"
    }
   ],
   "source": [
    "sns.heatmap(heat_array, square=True)\n",
    "plt.show()"
   ]
  },
  {
   "cell_type": "code",
   "execution_count": null,
   "id": "85a89b08",
   "metadata": {},
   "outputs": [],
   "source": []
  }
 ],
 "metadata": {
  "kernelspec": {
   "display_name": "Python 3 (ipykernel)",
   "language": "python",
   "name": "python3"
  },
  "language_info": {
   "codemirror_mode": {
    "name": "ipython",
    "version": 3
   },
   "file_extension": ".py",
   "mimetype": "text/x-python",
   "name": "python",
   "nbconvert_exporter": "python",
   "pygments_lexer": "ipython3",
   "version": "3.8.12"
  }
 },
 "nbformat": 4,
 "nbformat_minor": 5
}
