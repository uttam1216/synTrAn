{
 "cells": [
  {
   "cell_type": "code",
   "execution_count": 1,
   "id": "a5b059c0",
   "metadata": {},
   "outputs": [
    {
     "name": "stdout",
     "output_type": "stream",
     "text": [
      "392.63507514506205\n"
     ]
    }
   ],
   "source": [
    "\n",
    "# http://janmatuschek.de/LatitudeLongitudeBoundingCoordinates\n",
    "# dist = arccos(sin(lat1) · sin(lat2) + cos(lat1) · cos(lat2) · cos(lon1 - lon2)) · R\n",
    "import math\n",
    "# xlimit_high_long= -8.62000\n",
    "# xlimit_low_long= -8.64000\n",
    "# ylimit_high_lat= 41.16\n",
    "# ylimit_low_lat= 41.1450\n",
    "# Radius of the world\n",
    "# R=\n",
    "xlimit_high_long= 116.400\n",
    "xlimit_low_long= 116.350\n",
    "ylimit_high_lat= 40.100\n",
    "ylimit_low_lat= 40.050\n",
    "\n",
    "# xlimit_high_long= 116.400\n",
    "# xlimit_low_long= 116.320\n",
    "# ylimit_high_lat= 40.100\n",
    "# ylimit_low_lat= 40.020\n",
    "\n",
    "\n",
    "# max_latitude1=40.100\n",
    "# min_latitude1=39.900\n",
    "# max_longitude1=116.500\n",
    "# min_longitude1=116.300\n",
    "area=math.acos(math.sin(ylimit_high_lat)*math.sin(ylimit_low_lat)+\n",
    "               math.cos(ylimit_high_lat)*math.cos(ylimit_low_lat)*math.cos(xlimit_high_long-xlimit_low_long))*6371\n",
    "\n",
    "print(area)\n"
   ]
  },
  {
   "cell_type": "code",
   "execution_count": 2,
   "id": "904925eb",
   "metadata": {},
   "outputs": [
    {
     "name": "stdout",
     "output_type": "stream",
     "text": [
      "0.0035714285714293836\n",
      "0.004545454545454933\n"
     ]
    }
   ],
   "source": [
    "# lon_high= -8.62000\n",
    "# lon_low= -8.64000\n",
    "# lat_high= 41.16\n",
    "# lat_low= 41.1450\n",
    "\n",
    "lon_high= 116.400\n",
    "lon_low= 116.350\n",
    "lat_high= 40.100\n",
    "lat_low= 40.050\n",
    "\n",
    "# lon_high= 116.400\n",
    "# lon_low= 116.320\n",
    "# lat_high= 40.100\n",
    "# lat_low= 40.020\n",
    "# we will divide this area into 11(lat)*14(lon) grid\n",
    "lon_difference=abs(lon_high-lon_low)\n",
    "lon_fraction=lon_difference/14\n",
    "lat_difference=abs(lat_high-lat_low)\n",
    "lat_fraction=lat_difference/11\n",
    "print(lon_fraction)\n",
    "print(lat_fraction)"
   ]
  },
  {
   "cell_type": "code",
   "execution_count": 3,
   "id": "a72c3c3a",
   "metadata": {},
   "outputs": [
    {
     "name": "stdout",
     "output_type": "stream",
     "text": [
      "[116.35, 116.35357142857143, 116.35714285714286, 116.3607142857143, 116.36428571428573, 116.36785714285716, 116.3714285714286, 116.37500000000003, 116.37857142857146, 116.3821428571429, 116.38571428571433, 116.38928571428576, 116.3928571428572, 116.39642857142863, 116.4]\n"
     ]
    }
   ],
   "source": [
    "lon_axis=[]\n",
    "lon_axis.append(lon_low)\n",
    "for i in range(13):\n",
    "    temp=lon_axis[i]+lon_fraction\n",
    "    lon_axis.append(temp)\n",
    "lon_axis.append(lon_high)\n",
    "print(lon_axis)\n",
    "    "
   ]
  },
  {
   "cell_type": "code",
   "execution_count": 4,
   "id": "76a2e8bf",
   "metadata": {},
   "outputs": [
    {
     "name": "stdout",
     "output_type": "stream",
     "text": [
      "[40.05, 40.054545454545455, 40.05909090909091, 40.06363636363637, 40.06818181818183, 40.072727272727285, 40.07727272727274, 40.0818181818182, 40.08636363636366, 40.090909090909115, 40.09545454545457, 40.1]\n"
     ]
    }
   ],
   "source": [
    "lat_axis=[]\n",
    "lat_axis.append(lat_low)\n",
    "for i in range(10):\n",
    "    temp=lat_axis[i]+lat_fraction\n",
    "    lat_axis.append(temp)\n",
    "lat_axis.append(lat_high)\n",
    "print(lat_axis)"
   ]
  },
  {
   "cell_type": "code",
   "execution_count": 5,
   "id": "a4954949",
   "metadata": {},
   "outputs": [
    {
     "data": {
      "text/plain": [
       "116.36785714285716"
      ]
     },
     "execution_count": 5,
     "metadata": {},
     "output_type": "execute_result"
    }
   ],
   "source": [
    "lon_axis[5]"
   ]
  },
  {
   "cell_type": "code",
   "execution_count": 6,
   "id": "3958b4fc",
   "metadata": {},
   "outputs": [],
   "source": [
    "import pandas as pd\n",
    "import numpy as np\n",
    "import os"
   ]
  },
  {
   "cell_type": "code",
   "execution_count": null,
   "id": "6e574e0a",
   "metadata": {},
   "outputs": [],
   "source": [
    "\n"
   ]
  },
  {
   "cell_type": "code",
   "execution_count": 7,
   "id": "3c8576b0",
   "metadata": {},
   "outputs": [
    {
     "data": {
      "text/plain": [
       "10656"
      ]
     },
     "execution_count": 7,
     "metadata": {},
     "output_type": "execute_result"
    }
   ],
   "source": [
    "# heat_array = np.zeros((11, 14),dtype=int)\n",
    "# print(heat_array)\n",
    "allfiles=os.listdir('original')\n",
    "if '.ipynb_checkpoints' in allfiles:\n",
    "    allfiles.remove('.ipynb_checkpoints')\n",
    "len(allfiles)\n",
    "# for i in range(10):\n",
    "#     filename=\"original/\"+allfiles[i]\n",
    "#     i=i+1\n",
    "#     rawData = pd.read_csv(filename)\n",
    "#     for data in range(len(rawData)):\n",
    "#         Rawtrajectories=Rawtrajectories+1\n",
    "#         lat=rawData.latitude[data]\n",
    "#         lon=rawData.longitude[data]\n",
    "#         lon_column=None\n",
    "#         lat_row=None\n",
    "#         for ln in range(len(lon_axis)-1):\n",
    "#             ln_1=ln+1\n",
    "#             if lon>=lon_axis[ln] and lon<lon_axis[ln_1]:\n",
    "#                 lon_column=ln\n",
    "#                 break\n",
    "#         for lt in range(len(lat_axis)-1):\n",
    "#             lt_1=lt+1\n",
    "#             if lat>=lat_axis[lt] and lat<lat_axis[lt_1]:\n",
    "#                 lat_row=lt\n",
    "#                 break\n",
    "#         heat_array[lat_row,lon_column]=heat_array[lat_row,lon_column]+1\n",
    "        \n",
    "# print(heat_array)\n",
    "                "
   ]
  },
  {
   "cell_type": "code",
   "execution_count": 8,
   "id": "df808e55",
   "metadata": {},
   "outputs": [
    {
     "name": "stdout",
     "output_type": "stream",
     "text": [
      "[[0 0 0 0 0 0 0 0 0 0 0 0 0 0]\n",
      " [0 0 0 0 0 0 0 0 0 0 0 0 0 0]\n",
      " [0 0 0 0 0 0 0 0 0 0 0 0 0 0]\n",
      " [0 0 0 0 0 0 0 0 0 0 0 0 0 0]\n",
      " [0 0 0 0 0 0 0 0 0 0 0 0 0 0]\n",
      " [0 0 0 0 0 0 0 0 0 0 0 0 0 0]\n",
      " [0 0 0 0 0 0 0 0 0 0 0 0 0 0]\n",
      " [0 0 0 0 0 0 0 0 0 0 0 0 0 0]\n",
      " [0 0 0 0 0 0 0 0 0 0 0 0 0 0]\n",
      " [0 0 0 0 0 0 0 0 0 0 0 0 0 0]\n",
      " [0 0 0 0 0 0 0 0 0 0 0 0 0 0]]\n"
     ]
    },
    {
     "ename": "PermissionError",
     "evalue": "[Errno 13] Permission denied: 'original/v1'",
     "output_type": "error",
     "traceback": [
      "\u001b[1;31m---------------------------------------------------------------------------\u001b[0m",
      "\u001b[1;31mPermissionError\u001b[0m                           Traceback (most recent call last)",
      "\u001b[1;32m~\\AppData\\Local\\Temp/ipykernel_29648/3736494882.py\u001b[0m in \u001b[0;36m<module>\u001b[1;34m\u001b[0m\n\u001b[0;32m     11\u001b[0m \u001b[1;33m\u001b[0m\u001b[0m\n\u001b[0;32m     12\u001b[0m \u001b[1;31m#     print(filename)\u001b[0m\u001b[1;33m\u001b[0m\u001b[1;33m\u001b[0m\u001b[1;33m\u001b[0m\u001b[0m\n\u001b[1;32m---> 13\u001b[1;33m     \u001b[0mrawData\u001b[0m \u001b[1;33m=\u001b[0m \u001b[0mpd\u001b[0m\u001b[1;33m.\u001b[0m\u001b[0mread_csv\u001b[0m\u001b[1;33m(\u001b[0m\u001b[0mfilename\u001b[0m\u001b[1;33m)\u001b[0m\u001b[1;33m\u001b[0m\u001b[1;33m\u001b[0m\u001b[0m\n\u001b[0m\u001b[0;32m     14\u001b[0m \u001b[1;31m#     print(rawData)\u001b[0m\u001b[1;33m\u001b[0m\u001b[1;33m\u001b[0m\u001b[1;33m\u001b[0m\u001b[0m\n\u001b[0;32m     15\u001b[0m \u001b[1;33m\u001b[0m\u001b[0m\n",
      "\u001b[1;32m~\\anaconda3\\lib\\site-packages\\pandas\\util\\_decorators.py\u001b[0m in \u001b[0;36mwrapper\u001b[1;34m(*args, **kwargs)\u001b[0m\n\u001b[0;32m    309\u001b[0m                     \u001b[0mstacklevel\u001b[0m\u001b[1;33m=\u001b[0m\u001b[0mstacklevel\u001b[0m\u001b[1;33m,\u001b[0m\u001b[1;33m\u001b[0m\u001b[1;33m\u001b[0m\u001b[0m\n\u001b[0;32m    310\u001b[0m                 )\n\u001b[1;32m--> 311\u001b[1;33m             \u001b[1;32mreturn\u001b[0m \u001b[0mfunc\u001b[0m\u001b[1;33m(\u001b[0m\u001b[1;33m*\u001b[0m\u001b[0margs\u001b[0m\u001b[1;33m,\u001b[0m \u001b[1;33m**\u001b[0m\u001b[0mkwargs\u001b[0m\u001b[1;33m)\u001b[0m\u001b[1;33m\u001b[0m\u001b[1;33m\u001b[0m\u001b[0m\n\u001b[0m\u001b[0;32m    312\u001b[0m \u001b[1;33m\u001b[0m\u001b[0m\n\u001b[0;32m    313\u001b[0m         \u001b[1;32mreturn\u001b[0m \u001b[0mwrapper\u001b[0m\u001b[1;33m\u001b[0m\u001b[1;33m\u001b[0m\u001b[0m\n",
      "\u001b[1;32m~\\anaconda3\\lib\\site-packages\\pandas\\io\\parsers\\readers.py\u001b[0m in \u001b[0;36mread_csv\u001b[1;34m(filepath_or_buffer, sep, delimiter, header, names, index_col, usecols, squeeze, prefix, mangle_dupe_cols, dtype, engine, converters, true_values, false_values, skipinitialspace, skiprows, skipfooter, nrows, na_values, keep_default_na, na_filter, verbose, skip_blank_lines, parse_dates, infer_datetime_format, keep_date_col, date_parser, dayfirst, cache_dates, iterator, chunksize, compression, thousands, decimal, lineterminator, quotechar, quoting, doublequote, escapechar, comment, encoding, encoding_errors, dialect, error_bad_lines, warn_bad_lines, on_bad_lines, delim_whitespace, low_memory, memory_map, float_precision, storage_options)\u001b[0m\n\u001b[0;32m    678\u001b[0m     \u001b[0mkwds\u001b[0m\u001b[1;33m.\u001b[0m\u001b[0mupdate\u001b[0m\u001b[1;33m(\u001b[0m\u001b[0mkwds_defaults\u001b[0m\u001b[1;33m)\u001b[0m\u001b[1;33m\u001b[0m\u001b[1;33m\u001b[0m\u001b[0m\n\u001b[0;32m    679\u001b[0m \u001b[1;33m\u001b[0m\u001b[0m\n\u001b[1;32m--> 680\u001b[1;33m     \u001b[1;32mreturn\u001b[0m \u001b[0m_read\u001b[0m\u001b[1;33m(\u001b[0m\u001b[0mfilepath_or_buffer\u001b[0m\u001b[1;33m,\u001b[0m \u001b[0mkwds\u001b[0m\u001b[1;33m)\u001b[0m\u001b[1;33m\u001b[0m\u001b[1;33m\u001b[0m\u001b[0m\n\u001b[0m\u001b[0;32m    681\u001b[0m \u001b[1;33m\u001b[0m\u001b[0m\n\u001b[0;32m    682\u001b[0m \u001b[1;33m\u001b[0m\u001b[0m\n",
      "\u001b[1;32m~\\anaconda3\\lib\\site-packages\\pandas\\io\\parsers\\readers.py\u001b[0m in \u001b[0;36m_read\u001b[1;34m(filepath_or_buffer, kwds)\u001b[0m\n\u001b[0;32m    573\u001b[0m \u001b[1;33m\u001b[0m\u001b[0m\n\u001b[0;32m    574\u001b[0m     \u001b[1;31m# Create the parser.\u001b[0m\u001b[1;33m\u001b[0m\u001b[1;33m\u001b[0m\u001b[1;33m\u001b[0m\u001b[0m\n\u001b[1;32m--> 575\u001b[1;33m     \u001b[0mparser\u001b[0m \u001b[1;33m=\u001b[0m \u001b[0mTextFileReader\u001b[0m\u001b[1;33m(\u001b[0m\u001b[0mfilepath_or_buffer\u001b[0m\u001b[1;33m,\u001b[0m \u001b[1;33m**\u001b[0m\u001b[0mkwds\u001b[0m\u001b[1;33m)\u001b[0m\u001b[1;33m\u001b[0m\u001b[1;33m\u001b[0m\u001b[0m\n\u001b[0m\u001b[0;32m    576\u001b[0m \u001b[1;33m\u001b[0m\u001b[0m\n\u001b[0;32m    577\u001b[0m     \u001b[1;32mif\u001b[0m \u001b[0mchunksize\u001b[0m \u001b[1;32mor\u001b[0m \u001b[0miterator\u001b[0m\u001b[1;33m:\u001b[0m\u001b[1;33m\u001b[0m\u001b[1;33m\u001b[0m\u001b[0m\n",
      "\u001b[1;32m~\\anaconda3\\lib\\site-packages\\pandas\\io\\parsers\\readers.py\u001b[0m in \u001b[0;36m__init__\u001b[1;34m(self, f, engine, **kwds)\u001b[0m\n\u001b[0;32m    931\u001b[0m \u001b[1;33m\u001b[0m\u001b[0m\n\u001b[0;32m    932\u001b[0m         \u001b[0mself\u001b[0m\u001b[1;33m.\u001b[0m\u001b[0mhandles\u001b[0m\u001b[1;33m:\u001b[0m \u001b[0mIOHandles\u001b[0m \u001b[1;33m|\u001b[0m \u001b[1;32mNone\u001b[0m \u001b[1;33m=\u001b[0m \u001b[1;32mNone\u001b[0m\u001b[1;33m\u001b[0m\u001b[1;33m\u001b[0m\u001b[0m\n\u001b[1;32m--> 933\u001b[1;33m         \u001b[0mself\u001b[0m\u001b[1;33m.\u001b[0m\u001b[0m_engine\u001b[0m \u001b[1;33m=\u001b[0m \u001b[0mself\u001b[0m\u001b[1;33m.\u001b[0m\u001b[0m_make_engine\u001b[0m\u001b[1;33m(\u001b[0m\u001b[0mf\u001b[0m\u001b[1;33m,\u001b[0m \u001b[0mself\u001b[0m\u001b[1;33m.\u001b[0m\u001b[0mengine\u001b[0m\u001b[1;33m)\u001b[0m\u001b[1;33m\u001b[0m\u001b[1;33m\u001b[0m\u001b[0m\n\u001b[0m\u001b[0;32m    934\u001b[0m \u001b[1;33m\u001b[0m\u001b[0m\n\u001b[0;32m    935\u001b[0m     \u001b[1;32mdef\u001b[0m \u001b[0mclose\u001b[0m\u001b[1;33m(\u001b[0m\u001b[0mself\u001b[0m\u001b[1;33m)\u001b[0m\u001b[1;33m:\u001b[0m\u001b[1;33m\u001b[0m\u001b[1;33m\u001b[0m\u001b[0m\n",
      "\u001b[1;32m~\\anaconda3\\lib\\site-packages\\pandas\\io\\parsers\\readers.py\u001b[0m in \u001b[0;36m_make_engine\u001b[1;34m(self, f, engine)\u001b[0m\n\u001b[0;32m   1215\u001b[0m             \u001b[1;31m# \"Union[str, PathLike[str], ReadCsvBuffer[bytes], ReadCsvBuffer[str]]\"\u001b[0m\u001b[1;33m\u001b[0m\u001b[1;33m\u001b[0m\u001b[1;33m\u001b[0m\u001b[0m\n\u001b[0;32m   1216\u001b[0m             \u001b[1;31m# , \"str\", \"bool\", \"Any\", \"Any\", \"Any\", \"Any\", \"Any\"\u001b[0m\u001b[1;33m\u001b[0m\u001b[1;33m\u001b[0m\u001b[1;33m\u001b[0m\u001b[0m\n\u001b[1;32m-> 1217\u001b[1;33m             self.handles = get_handle(  # type: ignore[call-overload]\n\u001b[0m\u001b[0;32m   1218\u001b[0m                 \u001b[0mf\u001b[0m\u001b[1;33m,\u001b[0m\u001b[1;33m\u001b[0m\u001b[1;33m\u001b[0m\u001b[0m\n\u001b[0;32m   1219\u001b[0m                 \u001b[0mmode\u001b[0m\u001b[1;33m,\u001b[0m\u001b[1;33m\u001b[0m\u001b[1;33m\u001b[0m\u001b[0m\n",
      "\u001b[1;32m~\\anaconda3\\lib\\site-packages\\pandas\\io\\common.py\u001b[0m in \u001b[0;36mget_handle\u001b[1;34m(path_or_buf, mode, encoding, compression, memory_map, is_text, errors, storage_options)\u001b[0m\n\u001b[0;32m    787\u001b[0m         \u001b[1;32mif\u001b[0m \u001b[0mioargs\u001b[0m\u001b[1;33m.\u001b[0m\u001b[0mencoding\u001b[0m \u001b[1;32mand\u001b[0m \u001b[1;34m\"b\"\u001b[0m \u001b[1;32mnot\u001b[0m \u001b[1;32min\u001b[0m \u001b[0mioargs\u001b[0m\u001b[1;33m.\u001b[0m\u001b[0mmode\u001b[0m\u001b[1;33m:\u001b[0m\u001b[1;33m\u001b[0m\u001b[1;33m\u001b[0m\u001b[0m\n\u001b[0;32m    788\u001b[0m             \u001b[1;31m# Encoding\u001b[0m\u001b[1;33m\u001b[0m\u001b[1;33m\u001b[0m\u001b[1;33m\u001b[0m\u001b[0m\n\u001b[1;32m--> 789\u001b[1;33m             handle = open(\n\u001b[0m\u001b[0;32m    790\u001b[0m                 \u001b[0mhandle\u001b[0m\u001b[1;33m,\u001b[0m\u001b[1;33m\u001b[0m\u001b[1;33m\u001b[0m\u001b[0m\n\u001b[0;32m    791\u001b[0m                 \u001b[0mioargs\u001b[0m\u001b[1;33m.\u001b[0m\u001b[0mmode\u001b[0m\u001b[1;33m,\u001b[0m\u001b[1;33m\u001b[0m\u001b[1;33m\u001b[0m\u001b[0m\n",
      "\u001b[1;31mPermissionError\u001b[0m: [Errno 13] Permission denied: 'original/v1'"
     ]
    }
   ],
   "source": [
    "import pandas as pd\n",
    "import numpy as np\n",
    "heat_array = np.zeros((11, 14),dtype=int)\n",
    "print(heat_array)\n",
    "Rawtrajectories=0\n",
    "for i in range(10656):\n",
    "    filename=\"original/\"+allfiles[i]\n",
    "#     i=i+1\n",
    "#     filename=\"raw_data/rawData_\"+str(i)+\".csv\"\n",
    "#     filename=\"rawData/rawData_\"+str(i)+\".csv\"\n",
    "    \n",
    "#     print(filename)\n",
    "    rawData = pd.read_csv(filename)\n",
    "#     print(rawData)\n",
    "    \n",
    "    for data in range(len(rawData)):\n",
    "        \n",
    "        lat=rawData.latitude[data]\n",
    "        lon=rawData.longitude[data]\n",
    "#         lat=rawData.lat[data]\n",
    "#         lon=rawData.lon[data]\n",
    "#         print(lat)\n",
    "#         print(lon)\n",
    "        lon_column=None\n",
    "        lat_row=None\n",
    "        for ln in range(len(lon_axis)-1):\n",
    "            ln_1=ln+1\n",
    "            if lon>=lon_axis[ln] and lon<lon_axis[ln_1]:\n",
    "#                 print(lon_axis[ln])\n",
    "#                 print(lon_axis[ln_1])\n",
    "                lon_column=ln \n",
    "                break\n",
    "#         print(lon_column)\n",
    "        for lt in range(len(lat_axis)-1):\n",
    "            lt_1=lt+1\n",
    "            if lat>=lat_axis[lt] and lat<lat_axis[lt_1]:\n",
    "#                 print(lat_axis[lt])\n",
    "#                 print(lat_axis[lt_1])\n",
    "                lat_row=lt\n",
    "                break\n",
    "        if(lat_row!=None and lon_column!=None ):\n",
    "            Rawtrajectories=Rawtrajectories+1\n",
    "            heat_array[lat_row,lon_column]=heat_array[lat_row,lon_column]+1\n",
    "print(heat_array)\n",
    "        "
   ]
  },
  {
   "cell_type": "code",
   "execution_count": null,
   "id": "db1b5bf3",
   "metadata": {},
   "outputs": [],
   "source": [
    "print(Rawtrajectories)"
   ]
  },
  {
   "cell_type": "code",
   "execution_count": null,
   "id": "97041ea4",
   "metadata": {},
   "outputs": [],
   "source": [
    "allfiles=os.listdir('staticMap')\n",
    "if '.ipynb_checkpoints' in allfiles:\n",
    "    allfiles.remove('.ipynb_checkpoints')\n",
    "len(allfiles)"
   ]
  },
  {
   "cell_type": "code",
   "execution_count": null,
   "id": "604ed98d",
   "metadata": {},
   "outputs": [],
   "source": [
    "# Rawtrajectories=50000000\n",
    "syntheticTrajectories=0\n",
    "heat_array_traj = np.zeros((11, 14),dtype=int)\n",
    "print(heat_array_traj)\n",
    "for i in range(10655):\n",
    "    filename=\"staticMap/\"+allfiles[i]\n",
    "\n",
    "    rawData = pd.read_csv(filename)\n",
    "    for data in range(len(rawData)):\n",
    "        if(syntheticTrajectories==Rawtrajectories):\n",
    "            break\n",
    "        else:\n",
    "            \n",
    "            lat=rawData.latitude[data]\n",
    "            lon=rawData.longitude[data]\n",
    "            lon_column=None\n",
    "            lat_row=None\n",
    "            for ln in range(len(lon_axis)-1):\n",
    "                ln_1=ln+1\n",
    "                if lon>=lon_axis[ln] and lon<lon_axis[ln_1]:\n",
    "                    lon_column=ln\n",
    "                    break\n",
    "            for lt in range(len(lat_axis)-1):\n",
    "                lt_1=lt+1\n",
    "                if lat>=lat_axis[lt] and lat<lat_axis[lt_1]:\n",
    "                    lat_row=lt\n",
    "                    break\n",
    "            if(lat_row!=None and lon_column!=None ):\n",
    "                syntheticTrajectories=syntheticTrajectories+1\n",
    "                heat_array_traj[lat_row,lon_column]=heat_array_traj[lat_row,lon_column]+1\n",
    "print(heat_array_traj)"
   ]
  },
  {
   "cell_type": "code",
   "execution_count": null,
   "id": "32881be6",
   "metadata": {},
   "outputs": [],
   "source": [
    "allfiles=os.listdir('osmnx')\n",
    "if '.ipynb_checkpoints' in allfiles:\n",
    "    allfiles.remove('.ipynb_checkpoints')\n",
    "len(allfiles)"
   ]
  },
  {
   "cell_type": "code",
   "execution_count": null,
   "id": "af7e8bdb",
   "metadata": {},
   "outputs": [],
   "source": [
    "# Rawtrajectories=50000000\n",
    "syntheticTrajectories_osmnx=0\n",
    "heat_array_traj_osmnx = np.zeros((11, 14),dtype=int)\n",
    "print(heat_array_traj_osmnx)\n",
    "for i in range(10655):\n",
    "    filename=\"osmnx/\"+allfiles[i]\n",
    "\n",
    "    rawData = pd.read_csv(filename)\n",
    "    for data in range(len(rawData)):\n",
    "        if(syntheticTrajectories==Rawtrajectories):\n",
    "            break\n",
    "        else:\n",
    "            \n",
    "            lat=rawData.latitude[data]\n",
    "            lon=rawData.longitude[data]\n",
    "            lon_column=None\n",
    "            lat_row=None\n",
    "            for ln in range(len(lon_axis)-1):\n",
    "                ln_1=ln+1\n",
    "                if lon>=lon_axis[ln] and lon<lon_axis[ln_1]:\n",
    "                    lon_column=ln\n",
    "                    break\n",
    "            for lt in range(len(lat_axis)-1):\n",
    "                lt_1=lt+1\n",
    "                if lat>=lat_axis[lt] and lat<lat_axis[lt_1]:\n",
    "                    lat_row=lt\n",
    "                    break\n",
    "            if(lat_row!=None and lon_column!=None ):\n",
    "                syntheticTrajectories_osmnx=syntheticTrajectories_osmnx+1\n",
    "                heat_array_traj_osmnx[lat_row,lon_column]=heat_array_traj_osmnx[lat_row,lon_column]+1\n",
    "print(heat_array_traj_osmnx)"
   ]
  },
  {
   "cell_type": "code",
   "execution_count": null,
   "id": "46bd4db4",
   "metadata": {},
   "outputs": [],
   "source": [
    "print(syntheticTrajectories_osmnx)"
   ]
  },
  {
   "cell_type": "code",
   "execution_count": null,
   "id": "2531fd54",
   "metadata": {},
   "outputs": [],
   "source": [
    "from scipy.spatial import distance"
   ]
  },
  {
   "cell_type": "code",
   "execution_count": null,
   "id": "586bd59d",
   "metadata": {},
   "outputs": [],
   "source": [
    "from numpy.linalg import norm\n",
    "Aflat = np.hstack(heat_array)\n",
    "Bflat = np.hstack(heat_array_traj)\n",
    "\n",
    "dist = distance.cosine(Aflat, Bflat)\n",
    "print(\"Cosine Distance :\" ,dist)\n",
    "cosine = np.dot(Aflat,Bflat)/(norm(Aflat)*norm(Bflat))\n",
    "print(\"Cosine Similarity:\", cosine)"
   ]
  },
  {
   "cell_type": "code",
   "execution_count": null,
   "id": "257f34f7",
   "metadata": {},
   "outputs": [],
   "source": [
    "import numpy as np\n",
    "import seaborn as sns\n",
    "import matplotlib.pyplot as plt\n",
    "\n",
    "# np.random.seed(0)\n",
    "# A = np.random.uniform(0,500,(4,3))\n",
    "sns.heatmap(heat_array_traj, square=True)\n",
    "# plt.xlim(lon_low, lon_high)\n",
    "# plt.ylim(lat_low, lat_high)\n",
    "plt.show()"
   ]
  },
  {
   "cell_type": "code",
   "execution_count": null,
   "id": "0f749602",
   "metadata": {},
   "outputs": [],
   "source": [
    "sns.heatmap(heat_array, square=True)\n",
    "plt.show()"
   ]
  },
  {
   "cell_type": "code",
   "execution_count": null,
   "id": "81c4de21",
   "metadata": {},
   "outputs": [],
   "source": [
    "# Raw and OSMNX\n",
    "from numpy.linalg import norm\n",
    "Aflat = np.hstack(heat_array)\n",
    "Bflat = np.hstack(heat_array_traj_osmnx)\n",
    "\n",
    "dist = distance.cosine(Aflat, Bflat)\n",
    "print(\"Cosine Distance :\" ,dist)\n",
    "cosine = np.dot(Aflat,Bflat)/(norm(Aflat)*norm(Bflat))\n",
    "print(\"Cosine Similarity:\", cosine)"
   ]
  },
  {
   "cell_type": "code",
   "execution_count": null,
   "id": "107caa09",
   "metadata": {},
   "outputs": [],
   "source": [
    "import numpy as np\n",
    "import seaborn as sns\n",
    "import matplotlib.pyplot as plt\n",
    "\n",
    "# np.random.seed(0)\n",
    "# A = np.random.uniform(0,500,(4,3))\n",
    "sns.heatmap(heat_array_traj_osmnx, square=True)\n",
    "# plt.xlim(lon_low, lon_high)\n",
    "# plt.ylim(lat_low, lat_high)\n",
    "plt.show()"
   ]
  },
  {
   "cell_type": "code",
   "execution_count": null,
   "id": "85a89b08",
   "metadata": {},
   "outputs": [],
   "source": [
    "# # Rawtrajectories=50000000\n",
    "# syntheticTrajectories=0\n",
    "# heat_array_traj = np.zeros((11, 14),dtype=int)\n",
    "# print(heat_array_traj)\n",
    "# for i in range(10655):\n",
    "#     filename=\"staticMap/\"+allfiles[i]\n",
    "# #     i=i+1\n",
    "# #     filename=\"syntheticTrajectories/syntheticTrajectories\"+str(i)+\".csv\"\n",
    "# #     filename=\"raw_data/rawData_\"+str(i)+\".csv\"\n",
    "# #     print(filename)\n",
    "#     rawData = pd.read_csv(filename)\n",
    "# #     print(rawData)\n",
    "#     for data in range(len(rawData)):\n",
    "#         if(syntheticTrajectories==Rawtrajectories):\n",
    "# #             print(filename)\n",
    "#             break\n",
    "#         else:\n",
    "#             syntheticTrajectories=syntheticTrajectories+1\n",
    "#     #     for data in range(1):\n",
    "#             lat=rawData.lat[data]\n",
    "#             lon=rawData.lon[data]\n",
    "#     #         print(lat)\n",
    "#     #         print(lon)\n",
    "#             lon_column=None\n",
    "#             lat_row=None\n",
    "#             for ln in range(len(lon_axis)-1):\n",
    "#                 ln_1=ln+1\n",
    "#                 if lon>=lon_axis[ln] and lon<lon_axis[ln_1]:\n",
    "#     #                 print(lon_axis[ln])\n",
    "#     #                 print(lon_axis[ln_1])\n",
    "#                     lon_column=ln\n",
    "#                     break\n",
    "#     #         print(lon_column)\n",
    "#             for lt in range(len(lat_axis)-1):\n",
    "#                 lt_1=lt+1\n",
    "#                 if lat>=lat_axis[lt] and lat<lat_axis[lt_1]:\n",
    "#     #                 print(lat_axis[lt])\n",
    "#     #                 print(lat_axis[lt_1])\n",
    "#                     lat_row=lt\n",
    "#                     break\n",
    "#     #         print(lat_row)\n",
    "#             heat_array_traj[lat_row,lon_column]=heat_array_traj[lat_row,lon_column]+1\n",
    "# print(heat_array_traj)"
   ]
  },
  {
   "cell_type": "code",
   "execution_count": null,
   "id": "2c84244d",
   "metadata": {},
   "outputs": [],
   "source": []
  },
  {
   "cell_type": "code",
   "execution_count": null,
   "id": "3c211601",
   "metadata": {},
   "outputs": [],
   "source": []
  },
  {
   "cell_type": "code",
   "execution_count": null,
   "id": "cc3e9c27",
   "metadata": {},
   "outputs": [],
   "source": []
  }
 ],
 "metadata": {
  "kernelspec": {
   "display_name": "Python 3 (ipykernel)",
   "language": "python",
   "name": "python3"
  },
  "language_info": {
   "codemirror_mode": {
    "name": "ipython",
    "version": 3
   },
   "file_extension": ".py",
   "mimetype": "text/x-python",
   "name": "python",
   "nbconvert_exporter": "python",
   "pygments_lexer": "ipython3",
   "version": "3.8.12"
  }
 },
 "nbformat": 4,
 "nbformat_minor": 5
}
