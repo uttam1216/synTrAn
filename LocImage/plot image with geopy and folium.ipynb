{
 "cells": [
  {
   "cell_type": "markdown",
   "id": "e8a1bdcb",
   "metadata": {},
   "source": [
    "https://towardsdatascience.com/how-to-plot-a-route-on-a-map-fb900a7f6605"
   ]
  },
  {
   "cell_type": "code",
   "execution_count": 3,
   "id": "93316142",
   "metadata": {},
   "outputs": [],
   "source": [
    "import folium\n",
    "import geohash as geohash\n",
    "import pandas as pd\n",
    "import matplotlib.pyplot as plt\n",
    "from PIL import Image, ImageDraw"
   ]
  },
  {
   "cell_type": "code",
   "execution_count": 4,
   "id": "d3679919",
   "metadata": {},
   "outputs": [],
   "source": [
    "train_df = pd.read_csv('train.csv')\n",
    "train_df=train_df.sample(n=500000,replace=True, random_state=1)\n",
    "dup_train_df = train_df[train_df['TRIP_ID'].duplicated()]\n",
    "dup_train_df.reset_index()\n",
    "lst_duplicated_trip_id = list(dup_train_df['TRIP_ID']) \n",
    "cleaned_train_df = train_df[~train_df['TRIP_ID'].isin(lst_duplicated_trip_id)]"
   ]
  },
  {
   "cell_type": "code",
   "execution_count": 5,
   "id": "8bd9c896",
   "metadata": {},
   "outputs": [
    {
     "data": {
      "text/plain": [
       "{'s': 41.1328125, 'w': -8.61328125, 'n': 41.1767578125, 'e': -8.5693359375}"
      ]
     },
     "execution_count": 5,
     "metadata": {},
     "output_type": "execute_result"
    }
   ],
   "source": [
    "box=geohash.bbox(\"ez3fh\")\n",
    "box"
   ]
  },
  {
   "cell_type": "code",
   "execution_count": null,
   "id": "4726a4fb",
   "metadata": {},
   "outputs": [],
   "source": []
  },
  {
   "cell_type": "code",
   "execution_count": null,
   "id": "9b1c6a60",
   "metadata": {},
   "outputs": [],
   "source": [
    "count=0\n",
    "limit=0\n",
    "lat_or=[]\n",
    "long_or=[]\n",
    "ylimit_low=box['s']\n",
    "xlimit_low=box['w']\n",
    "ylimit_high=box['n']\n",
    "xlimit_high=box['e']\n",
    "for data in range(cleaned_train_df.shape[0]):\n",
    "                    \n",
    "    trajectories=[]\n",
    "    count=count+1\n",
    "    coord = cleaned_train_df.eval(cleaned_train_df[['POLYLINE']].values[data])[0]\n",
    "    if(len(coord)<1):\n",
    "        print(len(coord))\n",
    "    else:\n",
    "        \n",
    "        xs, ys = zip(*coord)\n",
    "        if((max(xs)<=xlimit_high) and (min(xs)>= xlimit_low) and (max(ys)<= ylimit_high) and (min(ys)>= ylimit_low) ):\n",
    "            if(len(xs)>40):\n",
    "                limit=limit+1\n",
    "                print(limit)\n",
    "                if(limit>1):\n",
    "                    print(\"Raw no: \"+str(count))\n",
    "                    break\n",
    "                orig_node = ox.distance.nearest_nodes(graph,xs,ys)\n",
    "                \n",
    "                \n",
    "                "
   ]
  }
 ],
 "metadata": {
  "kernelspec": {
   "display_name": "Python 3 (ipykernel)",
   "language": "python",
   "name": "python3"
  },
  "language_info": {
   "codemirror_mode": {
    "name": "ipython",
    "version": 3
   },
   "file_extension": ".py",
   "mimetype": "text/x-python",
   "name": "python",
   "nbconvert_exporter": "python",
   "pygments_lexer": "ipython3",
   "version": "3.8.12"
  }
 },
 "nbformat": 4,
 "nbformat_minor": 5
}
